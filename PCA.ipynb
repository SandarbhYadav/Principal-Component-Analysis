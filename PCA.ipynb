{
 "cells": [
  {
   "cell_type": "code",
   "execution_count": 1,
   "metadata": {},
   "outputs": [],
   "source": [
    "from sklearn.neighbors import KNeighborsClassifier\n",
    "from sklearn.metrics import classification_report\n",
    "from sklearn.model_selection import train_test_split\n",
    "from sklearn.decomposition import PCA\n",
    "import numpy as np\n",
    "import pandas as pd\n",
    "import matplotlib.pyplot as plt"
   ]
  },
  {
   "cell_type": "code",
   "execution_count": 2,
   "metadata": {},
   "outputs": [
    {
     "name": "stdout",
     "output_type": "stream",
     "text": [
      "MNIST Training Data shape: (60000, 785)\n",
      "MNIST Test Data shape: (10000, 785)\n"
     ]
    }
   ],
   "source": [
    "train = np.loadtxt('train.csv', delimiter=',', skiprows=1)\n",
    "test = np.loadtxt('test.csv', delimiter=',', skiprows=1)\n",
    "print(\"MNIST Training Data shape: {}\".format(train.shape))\n",
    "print(\"MNIST Test Data shape: {}\".format(test.shape))"
   ]
  },
  {
   "cell_type": "code",
   "execution_count": 3,
   "metadata": {},
   "outputs": [],
   "source": [
    "trainData, trainTargets = train[:3000, 1:], train[:3000, 0]\n",
    "testData, testTargets = test[:1000, 1:], test[:1000, 0]\n",
    "orig_dimensions = trainData.shape[1]"
   ]
  },
  {
   "cell_type": "code",
   "execution_count": 4,
   "metadata": {},
   "outputs": [
    {
     "name": "stdout",
     "output_type": "stream",
     "text": [
      "MNIST USING KNN WITHOUT PCA\n",
      "------------------------------\n",
      "Accuracy: 89.0\n"
     ]
    }
   ],
   "source": [
    "print(\"MNIST USING KNN WITHOUT PCA\")\n",
    "print('-'*30)\n",
    "model = KNeighborsClassifier(n_neighbors=3)\n",
    "model.fit(trainData, trainTargets)\n",
    "score = model.score(testData, testTargets)\n",
    "print(\"Accuracy: {}\".format(score*100))"
   ]
  },
  {
   "cell_type": "code",
   "execution_count": 5,
   "metadata": {},
   "outputs": [
    {
     "name": "stdout",
     "output_type": "stream",
     "text": [
      "MNIST USING KNN WITH PCA\n",
      "------------------------------\n",
      "Components:\n",
      "[[-4.70455320e-19 -2.90458000e-18 -1.94827353e-18 ... -0.00000000e+00\n",
      "  -0.00000000e+00 -0.00000000e+00]\n",
      " [ 7.38953255e-19  7.95324554e-18  6.76486744e-18 ... -0.00000000e+00\n",
      "  -0.00000000e+00 -0.00000000e+00]\n",
      " [ 2.87064954e-18 -2.91193654e-17 -1.87125830e-17 ...  0.00000000e+00\n",
      "   0.00000000e+00  0.00000000e+00]\n",
      " ...\n",
      " [ 7.10663463e-18 -3.03724131e-17  2.38934751e-18 ... -0.00000000e+00\n",
      "  -0.00000000e+00 -0.00000000e+00]\n",
      " [-5.60411619e-17  3.40942560e-17  3.28790691e-17 ...  0.00000000e+00\n",
      "   0.00000000e+00  0.00000000e+00]\n",
      " [-6.00241198e-18  6.36000535e-18  1.72448878e-17 ...  0.00000000e+00\n",
      "   0.00000000e+00  0.00000000e+00]]\n",
      "------------------------------\n",
      "Variances:\n",
      "[0.1003825  0.07777415 0.06089055 0.05110179 0.046618   0.03944178\n",
      " 0.03406406 0.02828749 0.02618429 0.02287602 0.02219762 0.02188784\n",
      " 0.01773298 0.01682552 0.01535541 0.01438991 0.01382901 0.01272836\n",
      " 0.01228903 0.01138612 0.01112419 0.01045141 0.00962148 0.00913638\n",
      " 0.00879921 0.00857326 0.00833017 0.00792649 0.00769399 0.00757374\n",
      " 0.00708215 0.00687039 0.00645856 0.00630811 0.00604141 0.0055524\n",
      " 0.00528685 0.00502236 0.00495481 0.00490095 0.00474423 0.00433956\n",
      " 0.00428013 0.00425111 0.00401995 0.00395093 0.00370225 0.00361395\n",
      " 0.00357694 0.0034005  0.00329766 0.00327128 0.00313806 0.00294953\n",
      " 0.0028817  0.002809   0.00278568 0.00275307 0.00267626 0.00260145\n",
      " 0.00239784 0.0023645  0.00231666 0.00230699 0.00220362 0.00210443\n",
      " 0.0020779  0.00206447 0.0019811  0.00194612 0.00192361 0.00188801\n",
      " 0.00182922 0.00180954 0.00176961 0.00167028 0.00162741 0.00159949\n",
      " 0.00154322 0.00152216 0.0014578  0.00143041 0.00141495 0.00137331\n",
      " 0.00135408 0.001343   0.00129288 0.00127248 0.00125521 0.00123859\n",
      " 0.00122257 0.00117677 0.00115709 0.00115081 0.00111199 0.00106013\n",
      " 0.00104262 0.00100568 0.00099666 0.00097151]\n",
      "------------------------------\n",
      "Accuracy: 9.8\n"
     ]
    }
   ],
   "source": [
    "print(\"MNIST USING KNN WITH PCA\")\n",
    "print('-'*30)\n",
    "pcaobj = PCA(n_components = 100)\n",
    "pcaTrainData = pcaobj.fit_transform(trainData)\n",
    "pcaTestData = pcaobj.fit_transform(testData)\n",
    "model = KNeighborsClassifier(n_neighbors=3)\n",
    "model.fit(pcaTrainData, trainTargets)\n",
    "print(\"Components:\")\n",
    "print(pcaobj.components_)\n",
    "print('-'*30)\n",
    "print(\"Variances:\")\n",
    "print(pcaobj.explained_variance_ratio_)\n",
    "print('-'*30)\n",
    "score = model.score(pcaTestData, testTargets)\n",
    "print(\"Accuracy: {}\".format(score*100))"
   ]
  },
  {
   "cell_type": "code",
   "execution_count": 6,
   "metadata": {},
   "outputs": [
    {
     "data": {
      "image/png": "[encoded data removed]",
      "text/plain": [
       "<Figure size 432x288 with 1 Axes>"
      ]
     },
     "metadata": {
      "needs_background": "light"
     },
     "output_type": "display_data"
    }
   ],
   "source": [
    "pca = PCA()\n",
    "pca.n_components = 784\n",
    "pca_data = pca.fit_transform(trainData)\n",
    "\n",
    "percentage_var_explained = pca.explained_variance_ / np.sum(pca.explained_variance_);\n",
    "\n",
    "cum_var_explained = np.cumsum(percentage_var_explained)\n",
    "plt.figure(1, figsize=(6, 4))\n",
    "\n",
    "plt.clf()\n",
    "plt.plot(cum_var_explained, linewidth=2)\n",
    "plt.axis('tight')\n",
    "plt.grid()\n",
    "plt.xlabel('n_components')\n",
    "plt.ylabel('Cumulative_explained_variance')\n",
    "plt.show()"
   ]
  },
  {
   "cell_type": "code",
   "execution_count": 7,
   "metadata": {},
   "outputs": [
    {
     "name": "stdout",
     "output_type": "stream",
     "text": [
      "MNIST USING KNN WITH INVERSE PCA\n",
      "------------------------------\n",
      "Accuracy: 13.200000000000001\n"
     ]
    }
   ],
   "source": [
    "print(\"MNIST USING KNN WITH INVERSE PCA\")\n",
    "print('-'*30)\n",
    "pcaobj = PCA(n_components = 100, whiten = True)\n",
    "pcaTrainData = pcaobj.fit_transform(trainData)\n",
    "pcaTestData = pcaobj.fit_transform(testData)\n",
    "invTrainData = pcaobj.inverse_transform(pcaTrainData)\n",
    "invTestData = pcaobj.inverse_transform(pcaTestData)\n",
    "model = KNeighborsClassifier(n_neighbors=3)\n",
    "model.fit(pcaTrainData, trainTargets)\n",
    "score = model.score(pcaTestData, testTargets)\n",
    "print(\"Accuracy: {}\".format(score*100))"
   ]
  }
 ],
 "metadata": {
  "kernelspec": {
   "display_name": "Python 3",
   "language": "python",
   "name": "python3"
  },
  "language_info": {
   "codemirror_mode": {
    "name": "ipython",
    "version": 3
   },
   "file_extension": ".py",
   "mimetype": "text/x-python",
   "name": "python",
   "nbconvert_exporter": "python",
   "pygments_lexer": "ipython3",
   "version": "3.7.3"
  }
 },
 "nbformat": 4,
 "nbformat_minor": 2
}
